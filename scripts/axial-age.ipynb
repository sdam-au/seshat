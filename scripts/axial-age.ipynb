{
 "cells": [
  {
   "cell_type": "markdown",
   "metadata": {
    "colab_type": "text",
    "id": "9iN-QWyF6d4G"
   },
   "source": [
    "# Configuration\n"
   ]
  },
  {
   "cell_type": "code",
   "execution_count": 29,
   "metadata": {
    "colab": {
     "base_uri": "https://localhost:8080/",
     "height": 105
    },
    "colab_type": "code",
    "executionInfo": {
     "elapsed": 6035,
     "status": "ok",
     "timestamp": 1583921737448,
     "user": {
      "displayName": "Vojtěch Kaše",
      "photoUrl": "https://lh3.googleusercontent.com/a-/AOh14Ggz3jS9e7I3GdIEbyBKFtqr9tPdNCwyLBEJwbK8cw=s64",
      "userId": "01399835024022498543"
     },
     "user_tz": -60
    },
    "id": "NuI5WtX8nqfF",
    "outputId": "9c96da24-694b-47a0-cf8c-124368a27c9a"
   },
   "outputs": [],
   "source": [
    "### PREREQUISTIES\n",
    "### (many used only in one notebook...)\n",
    "\n",
    "import os\n",
    "import pandas as pd\n",
    "import numpy as np\n",
    "import pickle\n",
    "import math\n",
    "import random\n",
    "import sys # to use your own functions\n",
    "import io\n",
    "import csv\n",
    "from urllib.request import urlopen\n",
    "\n",
    "import matplotlib.pyplot as plt\n",
    "\n",
    "from scipy import stats\n",
    "\n",
    "import gspread\n",
    "from gspread_dataframe import get_as_dataframe, set_with_dataframe\n",
    "from google.oauth2 import service_account # based on google-auth library\n",
    "\n",
    "import sddk"
   ]
  },
  {
   "cell_type": "code",
   "execution_count": 30,
   "metadata": {
    "colab": {
     "base_uri": "https://localhost:8080/",
     "height": 105
    },
    "colab_type": "code",
    "executionInfo": {
     "elapsed": 41456,
     "status": "ok",
     "timestamp": 1583851224609,
     "user": {
      "displayName": "Vojtěch Kaše",
      "photoUrl": "https://lh3.googleusercontent.com/a-/AOh14Ggz3jS9e7I3GdIEbyBKFtqr9tPdNCwyLBEJwbK8cw=s64",
      "userId": "01399835024022498543"
     },
     "user_tz": -60
    },
    "id": "Ov_Aha_db4AX",
    "outputId": "d27c83c2-cf3a-4d5c-a0be-b53f54ce0b59"
   },
   "outputs": [
    {
     "name": "stdout",
     "output_type": "stream",
     "text": [
      "sciencedata.dk username (format '123456@au.dk'): 648597@au.dk\n",
      "sciencedata.dk password: ········\n",
      "connection with shared folder established with you as its owner\n",
      "endpoint variable has been configured to: https://sciencedata.dk/files/SDAM_root/\n"
     ]
    }
   ],
   "source": [
    "conf = sddk.configure(\"SDAM_root\", \"648597@au.dk\")"
   ]
  },
  {
   "cell_type": "code",
   "execution_count": 5,
   "metadata": {
    "colab": {},
    "colab_type": "code",
    "id": "eZ8f8bvFWVki"
   },
   "outputs": [],
   "source": [
    "### authorize google sheets\n",
    "# to access our gsheet with data overview & metadata, you need a Google Service Account json file\n",
    "# (see google-auth python package documentation to start with)\n",
    "# I have mine located in my personal space on sciencedata.dk, so I read it from there:\n",
    "\n",
    "# (1) read the file and parse its content\n",
    "try:\n",
    "    file_data = conf[0].get(\"https://sciencedata.dk/files/ServiceAccountsKey.json\").json()\n",
    "except:\n",
    "    print(\"cannot find file ServiceAccountsKey.json\")\n",
    "# (2) transform the content into crendentials object\n",
    "credentials = service_account.Credentials.from_service_account_info(file_data)\n",
    "# (3) specify your usage of the credentials\n",
    "scoped_credentials = credentials.with_scopes(['https://spreadsheets.google.com/feeds', 'https://www.googleapis.com/auth/drive'])\n",
    "# (4) use the constrained credentials for authentication of gspread package\n",
    "gc = gspread.Client(auth=scoped_credentials)\n",
    "# (5) establish connection with spreadsheets specified by their url\n",
    "sh = gc.open_by_url(\"https://docs.google.com/spreadsheets/d/1boQal2mG8j_FK7XpxYM7iwIwK7Q_8ErTuor2_jC333o/edit?usp=sharing\")"
   ]
  },
  {
   "cell_type": "code",
   "execution_count": 6,
   "metadata": {},
   "outputs": [
    {
     "data": {
      "text/plain": [
       "[<Worksheet 'Sheet1' id:0>,\n",
       " <Worksheet 'seshat_axial_1000BC-1CE' id:1499875099>,\n",
       " <Worksheet 'latium_data' id:2003450966>]"
      ]
     },
     "execution_count": 6,
     "metadata": {},
     "output_type": "execute_result"
    }
   ],
   "source": [
    "sh.worksheets()"
   ]
  },
  {
   "cell_type": "markdown",
   "metadata": {
    "colab_type": "text",
    "id": "5BbDILlsQduM"
   },
   "source": [
    "# Seshat \"agri\""
   ]
  },
  {
   "cell_type": "code",
   "execution_count": 7,
   "metadata": {
    "colab": {
     "base_uri": "https://localhost:8080/",
     "height": 275
    },
    "colab_type": "code",
    "executionInfo": {
     "elapsed": 1374,
     "status": "ok",
     "timestamp": 1582186480090,
     "user": {
      "displayName": "Vojtěch Kaše",
      "photoUrl": "https://lh3.googleusercontent.com/a-/AAuE7mAxTlnyE78QMWq7qNrhY8cMOVti0SJqAGwQEptYkQ=s64",
      "userId": "01399835024022498543"
     },
     "user_tz": -60
    },
    "id": "KhAsh0xFRTF0",
    "outputId": "4c630ac8-07c4-4d0e-ba63-2f3d93b0577f"
   },
   "outputs": [
    {
     "data": {
      "text/html": [
       "<div>\n",
       "<style scoped>\n",
       "    .dataframe tbody tr th:only-of-type {\n",
       "        vertical-align: middle;\n",
       "    }\n",
       "\n",
       "    .dataframe tbody tr th {\n",
       "        vertical-align: top;\n",
       "    }\n",
       "\n",
       "    .dataframe thead th {\n",
       "        text-align: right;\n",
       "    }\n",
       "</style>\n",
       "<table border=\"1\" class=\"dataframe\">\n",
       "  <thead>\n",
       "    <tr style=\"text-align: right;\">\n",
       "      <th>V0</th>\n",
       "      <th>Time</th>\n",
       "      <th>Latium</th>\n",
       "      <th>Paris Basin</th>\n",
       "      <th>Iceland</th>\n",
       "      <th>Upper Egypt</th>\n",
       "      <th>Niger Inland Delta</th>\n",
       "      <th>Ghanaian Coast</th>\n",
       "      <th>Susiana</th>\n",
       "      <th>Konya Plain</th>\n",
       "      <th>Yemeni Coastal Plain</th>\n",
       "      <th>...</th>\n",
       "      <th>Valley of Oaxaca</th>\n",
       "      <th>Cahokia</th>\n",
       "      <th>Finger Lakes</th>\n",
       "      <th>Cuzco</th>\n",
       "      <th>North Colombia</th>\n",
       "      <th>Lowland Andes</th>\n",
       "      <th>Big Island Hawaii</th>\n",
       "      <th>Chuuk Islands</th>\n",
       "      <th>Oro PNG</th>\n",
       "      <th>Southern Mesopotamia</th>\n",
       "    </tr>\n",
       "  </thead>\n",
       "  <tbody>\n",
       "    <tr>\n",
       "      <th>V1</th>\n",
       "      <td>-10000</td>\n",
       "      <td>0</td>\n",
       "      <td>0</td>\n",
       "      <td>0</td>\n",
       "      <td>0</td>\n",
       "      <td>0</td>\n",
       "      <td>0</td>\n",
       "      <td>0</td>\n",
       "      <td>0</td>\n",
       "      <td>0</td>\n",
       "      <td>...</td>\n",
       "      <td>0</td>\n",
       "      <td>0</td>\n",
       "      <td>0</td>\n",
       "      <td>0</td>\n",
       "      <td>0</td>\n",
       "      <td>0</td>\n",
       "      <td>0</td>\n",
       "      <td>0</td>\n",
       "      <td>0</td>\n",
       "      <td>0</td>\n",
       "    </tr>\n",
       "    <tr>\n",
       "      <th>V2</th>\n",
       "      <td>-9900</td>\n",
       "      <td>0</td>\n",
       "      <td>0</td>\n",
       "      <td>0</td>\n",
       "      <td>0</td>\n",
       "      <td>0</td>\n",
       "      <td>0</td>\n",
       "      <td>0.00445253</td>\n",
       "      <td>0</td>\n",
       "      <td>0</td>\n",
       "      <td>...</td>\n",
       "      <td>0</td>\n",
       "      <td>0</td>\n",
       "      <td>0</td>\n",
       "      <td>0</td>\n",
       "      <td>0</td>\n",
       "      <td>0</td>\n",
       "      <td>0</td>\n",
       "      <td>0</td>\n",
       "      <td>0</td>\n",
       "      <td>0.00445253</td>\n",
       "    </tr>\n",
       "    <tr>\n",
       "      <th>V3</th>\n",
       "      <td>-9800</td>\n",
       "      <td>0</td>\n",
       "      <td>0</td>\n",
       "      <td>0</td>\n",
       "      <td>0</td>\n",
       "      <td>0</td>\n",
       "      <td>0</td>\n",
       "      <td>0.00890506</td>\n",
       "      <td>0</td>\n",
       "      <td>0</td>\n",
       "      <td>...</td>\n",
       "      <td>0</td>\n",
       "      <td>0</td>\n",
       "      <td>0</td>\n",
       "      <td>0</td>\n",
       "      <td>0</td>\n",
       "      <td>0</td>\n",
       "      <td>0</td>\n",
       "      <td>0</td>\n",
       "      <td>0</td>\n",
       "      <td>0.00890506</td>\n",
       "    </tr>\n",
       "    <tr>\n",
       "      <th>V4</th>\n",
       "      <td>-9700</td>\n",
       "      <td>0</td>\n",
       "      <td>0</td>\n",
       "      <td>0</td>\n",
       "      <td>0</td>\n",
       "      <td>0</td>\n",
       "      <td>0</td>\n",
       "      <td>0.0133576</td>\n",
       "      <td>0</td>\n",
       "      <td>0</td>\n",
       "      <td>...</td>\n",
       "      <td>0</td>\n",
       "      <td>0</td>\n",
       "      <td>0</td>\n",
       "      <td>0</td>\n",
       "      <td>0</td>\n",
       "      <td>0</td>\n",
       "      <td>0</td>\n",
       "      <td>0</td>\n",
       "      <td>0</td>\n",
       "      <td>0.0133576</td>\n",
       "    </tr>\n",
       "    <tr>\n",
       "      <th>V5</th>\n",
       "      <td>-9600</td>\n",
       "      <td>0</td>\n",
       "      <td>0</td>\n",
       "      <td>0</td>\n",
       "      <td>0</td>\n",
       "      <td>0</td>\n",
       "      <td>0</td>\n",
       "      <td>0.0178101</td>\n",
       "      <td>0.0284952</td>\n",
       "      <td>0</td>\n",
       "      <td>...</td>\n",
       "      <td>0</td>\n",
       "      <td>0</td>\n",
       "      <td>0</td>\n",
       "      <td>0</td>\n",
       "      <td>0</td>\n",
       "      <td>0</td>\n",
       "      <td>0</td>\n",
       "      <td>0</td>\n",
       "      <td>0</td>\n",
       "      <td>0.0178101</td>\n",
       "    </tr>\n",
       "  </tbody>\n",
       "</table>\n",
       "<p>5 rows × 32 columns</p>\n",
       "</div>"
      ],
      "text/plain": [
       "V0    Time Latium Paris Basin Iceland Upper Egypt Niger Inland Delta  \\\n",
       "V1  -10000      0           0       0           0                  0   \n",
       "V2   -9900      0           0       0           0                  0   \n",
       "V3   -9800      0           0       0           0                  0   \n",
       "V4   -9700      0           0       0           0                  0   \n",
       "V5   -9600      0           0       0           0                  0   \n",
       "\n",
       "V0 Ghanaian Coast     Susiana Konya Plain Yemeni Coastal Plain  ...  \\\n",
       "V1              0           0           0                    0  ...   \n",
       "V2              0  0.00445253           0                    0  ...   \n",
       "V3              0  0.00890506           0                    0  ...   \n",
       "V4              0   0.0133576           0                    0  ...   \n",
       "V5              0   0.0178101   0.0284952                    0  ...   \n",
       "\n",
       "V0 Valley of Oaxaca Cahokia Finger Lakes Cuzco North Colombia Lowland Andes  \\\n",
       "V1                0       0            0     0              0             0   \n",
       "V2                0       0            0     0              0             0   \n",
       "V3                0       0            0     0              0             0   \n",
       "V4                0       0            0     0              0             0   \n",
       "V5                0       0            0     0              0             0   \n",
       "\n",
       "V0 Big Island Hawaii Chuuk Islands Oro PNG Southern Mesopotamia  \n",
       "V1                 0             0       0                    0  \n",
       "V2                 0             0       0           0.00445253  \n",
       "V3                 0             0       0           0.00890506  \n",
       "V4                 0             0       0            0.0133576  \n",
       "V5                 0             0       0            0.0178101  \n",
       "\n",
       "[5 rows x 32 columns]"
      ]
     },
     "execution_count": 7,
     "metadata": {},
     "output_type": "execute_result"
    }
   ],
   "source": [
    "### this is the only data I upload here from my own location. The data are from here: https://osf.io/tqm5k/\n",
    "response = conf[0].get(conf[1] + \"SDAM_data/seshat/MSP_R/HistYield+.csv\")\n",
    "seshat_agri = pd.read_csv(io.StringIO(response.text)).T\n",
    "seshat_agri.columns = seshat_agri.loc[\"V0\"]\n",
    "seshat_agri = seshat_agri[1:]\n",
    "seshat_agri.head(5)"
   ]
  },
  {
   "cell_type": "code",
   "execution_count": 8,
   "metadata": {
    "colab": {
     "base_uri": "https://localhost:8080/",
     "height": 170
    },
    "colab_type": "code",
    "executionInfo": {
     "elapsed": 521,
     "status": "ok",
     "timestamp": 1582186481681,
     "user": {
      "displayName": "Vojtěch Kaše",
      "photoUrl": "https://lh3.googleusercontent.com/a-/AAuE7mAxTlnyE78QMWq7qNrhY8cMOVti0SJqAGwQEptYkQ=s64",
      "userId": "01399835024022498543"
     },
     "user_tz": -60
    },
    "id": "sNw1j4u8aRDK",
    "outputId": "f25b8c87-7d38-4748-9768-c3e06ac0af0b"
   },
   "outputs": [
    {
     "data": {
      "text/plain": [
       "Index(['Latium', 'Paris Basin', 'Iceland', 'Upper Egypt', 'Niger Inland Delta',\n",
       "       'Ghanaian Coast', 'Susiana', 'Konya Plain', 'Yemeni Coastal Plain',\n",
       "       'Kachi Plain', 'Deccan', 'Garo Hills', 'Cambodian Basin',\n",
       "       'Central Java', 'Kapuasi Basin', 'Middle Yellow River Valley', 'Kansai',\n",
       "       'Southern China Hills', 'Sogdiana', 'Orkhon Valley',\n",
       "       'Lena River Valley', 'Valley of Oaxaca', 'Cahokia', 'Finger Lakes',\n",
       "       'Cuzco', 'North Colombia', 'Lowland Andes', 'Big Island Hawaii',\n",
       "       'Chuuk Islands', 'Oro PNG', 'Southern Mesopotamia'],\n",
       "      dtype='object', name='V0')"
      ]
     },
     "execution_count": 8,
     "metadata": {},
     "output_type": "execute_result"
    }
   ],
   "source": [
    "### what regions do we have?\n",
    "seshat_agri.columns[1:]"
   ]
  },
  {
   "cell_type": "code",
   "execution_count": 0,
   "metadata": {
    "colab": {
     "base_uri": "https://localhost:8080/",
     "height": 34
    },
    "colab_type": "code",
    "executionInfo": {
     "elapsed": 4688,
     "status": "ok",
     "timestamp": 1582098322971,
     "user": {
      "displayName": "Vojtěch Kaše",
      "photoUrl": "https://lh3.googleusercontent.com/a-/AAuE7mAxTlnyE78QMWq7qNrhY8cMOVti0SJqAGwQEptYkQ=s64",
      "userId": "01399835024022498543"
     },
     "user_tz": -60
    },
    "id": "MJ8ktBKeZ9T1",
    "outputId": "08449e01-b88b-4931-b951-64e7b2383f64"
   },
   "outputs": [
    {
     "name": "stdout",
     "output_type": "stream",
     "text": [
      "Your <class 'pandas.core.frame.DataFrame'> object has been succefully written as \"https://sciencedata.dk/files/SDAM_root/SDAM_data/seshat/seshat_agri.json\"\n"
     ]
    }
   ],
   "source": [
    "### write to sciencedata for backup\n",
    "#write_file(\"SDAM_data/seshat/seshat_agri.json\", seshat_agri, conf)"
   ]
  },
  {
   "cell_type": "code",
   "execution_count": 9,
   "metadata": {
    "colab": {},
    "colab_type": "code",
    "id": "lJfiZMJxXCWF"
   },
   "outputs": [],
   "source": [
    "### regional constraints to AM\n",
    "NGA_AM = [\"Latium\", \"Paris Basin\", \"Upper Egypt\", \"Konya Plain\"]\n",
    "### temporal constraints to AM\n",
    "dates_AM = [num*100 for num in range(-10, 11)]"
   ]
  },
  {
   "cell_type": "code",
   "execution_count": 10,
   "metadata": {
    "colab": {},
    "colab_type": "code",
    "id": "2jl4ZV5uZDlj"
   },
   "outputs": [],
   "source": [
    "seshat_agri_AM = seshat_agri[seshat_agri[\"Time\"].isin(dates_AM)][[\"Time\"] + NGA_AM]"
   ]
  },
  {
   "cell_type": "code",
   "execution_count": 11,
   "metadata": {
    "colab": {},
    "colab_type": "code",
    "id": "wO6NzUg1uinL"
   },
   "outputs": [],
   "source": [
    "seshat_agri_AM.set_index(\"Time\", inplace=True)"
   ]
  },
  {
   "cell_type": "code",
   "execution_count": 14,
   "metadata": {
    "colab": {
     "base_uri": "https://localhost:8080/",
     "height": 283
    },
    "colab_type": "code",
    "executionInfo": {
     "elapsed": 1483,
     "status": "ok",
     "timestamp": 1582187787716,
     "user": {
      "displayName": "Vojtěch Kaše",
      "photoUrl": "https://lh3.googleusercontent.com/a-/AAuE7mAxTlnyE78QMWq7qNrhY8cMOVti0SJqAGwQEptYkQ=s64",
      "userId": "01399835024022498543"
     },
     "user_tz": -60
    },
    "id": "bUng7YpHXZuZ",
    "outputId": "f83428f0-d96a-47c6-9bc2-111b60f722bc"
   },
   "outputs": [
    {
     "data": {
      "text/plain": [
       "<matplotlib.legend.Legend at 0x7f976fde9710>"
      ]
     },
     "execution_count": 14,
     "metadata": {},
     "output_type": "execute_result"
    },
    {
     "data": {
      "image/png": "[encoded data removed]",
      "text/plain": [
       "<Figure size 432x288 with 1 Axes>"
      ]
     },
     "metadata": {
      "needs_background": "light"
     },
     "output_type": "display_data"
    }
   ],
   "source": [
    "fig, ax = plt.subplots(figsize=(6, 4), tight_layout=True)\n",
    "\n",
    "for region in NGA_AM:\n",
    "  try:\n",
    "    ax = pd.to_numeric(seshat_agri_AM[region], errors='coerce').plot()\n",
    "  except: \n",
    "    pd.to_numeric(seshat_agri_AM[region], errors='coerce').plot(ax=ax)\n",
    "plt.ylabel(\"AGRI\")\n",
    "plt.legend()\n"
   ]
  },
  {
   "cell_type": "code",
   "execution_count": 16,
   "metadata": {
    "colab": {},
    "colab_type": "code",
    "id": "GvvDhmZ6qoqd"
   },
   "outputs": [
    {
     "name": "stdout",
     "output_type": "stream",
     "text": [
      "Your <class 'matplotlib.figure.Figure'> object has been succefully written as \"https://sciencedata.dk/files/SDAM_root/SDAM_data/seshat/agri_AM.png\"\n"
     ]
    }
   ],
   "source": [
    "sddk.write_file(\"SDAM_data/seshat/agri_AM.png\", fig, conf)"
   ]
  },
  {
   "cell_type": "markdown",
   "metadata": {
    "colab_type": "text",
    "id": "anM0rWaey-Jw"
   },
   "source": [
    "# Seshat axial age (axa)"
   ]
  },
  {
   "cell_type": "code",
   "execution_count": 17,
   "metadata": {
    "colab": {
     "base_uri": "https://localhost:8080/",
     "height": 377
    },
    "colab_type": "code",
    "executionInfo": {
     "elapsed": 727,
     "status": "ok",
     "timestamp": 1582202802811,
     "user": {
      "displayName": "Vojtěch Kaše",
      "photoUrl": "https://lh3.googleusercontent.com/a-/AAuE7mAxTlnyE78QMWq7qNrhY8cMOVti0SJqAGwQEptYkQ=s64",
      "userId": "01399835024022498543"
     },
     "user_tz": -60
    },
    "id": "8Y9vTCbR36CG",
    "outputId": "573b0a02-8127-49ac-908c-f2f27dab6c6b"
   },
   "outputs": [
    {
     "data": {
      "text/html": [
       "<div>\n",
       "<style scoped>\n",
       "    .dataframe tbody tr th:only-of-type {\n",
       "        vertical-align: middle;\n",
       "    }\n",
       "\n",
       "    .dataframe tbody tr th {\n",
       "        vertical-align: top;\n",
       "    }\n",
       "\n",
       "    .dataframe thead th {\n",
       "        text-align: right;\n",
       "    }\n",
       "</style>\n",
       "<table border=\"1\" class=\"dataframe\">\n",
       "  <thead>\n",
       "    <tr style=\"text-align: right;\">\n",
       "      <th></th>\n",
       "      <th>Date.From</th>\n",
       "      <th>NGA</th>\n",
       "      <th>1. Moralistic punishment</th>\n",
       "      <th>2. Moralizing norms</th>\n",
       "      <th>3. Promotion of prosociality</th>\n",
       "      <th>4. Omniscient supernatural beings</th>\n",
       "      <th>5. Rulers not gods</th>\n",
       "      <th>6. Equating elites and commoners</th>\n",
       "      <th>7. Equating rulers and commoners</th>\n",
       "      <th>8. Formal legal code</th>\n",
       "      <th>9. General applicability of law</th>\n",
       "      <th>10. Constraint on executive</th>\n",
       "      <th>11. Full-time bureaucrats</th>\n",
       "      <th>12. Impeachment</th>\n",
       "      <th>sum</th>\n",
       "    </tr>\n",
       "  </thead>\n",
       "  <tbody>\n",
       "    <tr>\n",
       "      <th>0</th>\n",
       "      <td>200</td>\n",
       "      <td>Cambodian Basin</td>\n",
       "      <td>0.0</td>\n",
       "      <td>1.0</td>\n",
       "      <td>1.0</td>\n",
       "      <td>NaN</td>\n",
       "      <td>1.0</td>\n",
       "      <td>0.0</td>\n",
       "      <td>0.0</td>\n",
       "      <td>1.0</td>\n",
       "      <td>1.0</td>\n",
       "      <td>1.0</td>\n",
       "      <td>1.0</td>\n",
       "      <td>0.0</td>\n",
       "      <td>7.0</td>\n",
       "    </tr>\n",
       "    <tr>\n",
       "      <th>1</th>\n",
       "      <td>300</td>\n",
       "      <td>Cambodian Basin</td>\n",
       "      <td>0.0</td>\n",
       "      <td>1.0</td>\n",
       "      <td>1.0</td>\n",
       "      <td>NaN</td>\n",
       "      <td>1.0</td>\n",
       "      <td>0.0</td>\n",
       "      <td>0.0</td>\n",
       "      <td>1.0</td>\n",
       "      <td>1.0</td>\n",
       "      <td>1.0</td>\n",
       "      <td>1.0</td>\n",
       "      <td>0.0</td>\n",
       "      <td>7.0</td>\n",
       "    </tr>\n",
       "    <tr>\n",
       "      <th>2</th>\n",
       "      <td>400</td>\n",
       "      <td>Cambodian Basin</td>\n",
       "      <td>0.0</td>\n",
       "      <td>1.0</td>\n",
       "      <td>1.0</td>\n",
       "      <td>NaN</td>\n",
       "      <td>1.0</td>\n",
       "      <td>0.0</td>\n",
       "      <td>0.0</td>\n",
       "      <td>1.0</td>\n",
       "      <td>1.0</td>\n",
       "      <td>1.0</td>\n",
       "      <td>1.0</td>\n",
       "      <td>0.0</td>\n",
       "      <td>7.0</td>\n",
       "    </tr>\n",
       "    <tr>\n",
       "      <th>3</th>\n",
       "      <td>500</td>\n",
       "      <td>Cambodian Basin</td>\n",
       "      <td>0.0</td>\n",
       "      <td>1.0</td>\n",
       "      <td>1.0</td>\n",
       "      <td>NaN</td>\n",
       "      <td>1.0</td>\n",
       "      <td>0.0</td>\n",
       "      <td>0.0</td>\n",
       "      <td>1.0</td>\n",
       "      <td>1.0</td>\n",
       "      <td>1.0</td>\n",
       "      <td>1.0</td>\n",
       "      <td>0.0</td>\n",
       "      <td>7.0</td>\n",
       "    </tr>\n",
       "    <tr>\n",
       "      <th>4</th>\n",
       "      <td>600</td>\n",
       "      <td>Cambodian Basin</td>\n",
       "      <td>0.0</td>\n",
       "      <td>1.0</td>\n",
       "      <td>1.0</td>\n",
       "      <td>NaN</td>\n",
       "      <td>0.0</td>\n",
       "      <td>0.0</td>\n",
       "      <td>0.0</td>\n",
       "      <td>1.0</td>\n",
       "      <td>1.0</td>\n",
       "      <td>1.0</td>\n",
       "      <td>1.0</td>\n",
       "      <td>0.0</td>\n",
       "      <td>6.0</td>\n",
       "    </tr>\n",
       "  </tbody>\n",
       "</table>\n",
       "</div>"
      ],
      "text/plain": [
       "   Date.From              NGA  1. Moralistic punishment  2. Moralizing norms  \\\n",
       "0        200  Cambodian Basin                       0.0                  1.0   \n",
       "1        300  Cambodian Basin                       0.0                  1.0   \n",
       "2        400  Cambodian Basin                       0.0                  1.0   \n",
       "3        500  Cambodian Basin                       0.0                  1.0   \n",
       "4        600  Cambodian Basin                       0.0                  1.0   \n",
       "\n",
       "   3. Promotion of prosociality  4. Omniscient supernatural beings  \\\n",
       "0                           1.0                                NaN   \n",
       "1                           1.0                                NaN   \n",
       "2                           1.0                                NaN   \n",
       "3                           1.0                                NaN   \n",
       "4                           1.0                                NaN   \n",
       "\n",
       "   5. Rulers not gods  6. Equating elites and commoners  \\\n",
       "0                 1.0                               0.0   \n",
       "1                 1.0                               0.0   \n",
       "2                 1.0                               0.0   \n",
       "3                 1.0                               0.0   \n",
       "4                 0.0                               0.0   \n",
       "\n",
       "   7. Equating rulers and commoners  8. Formal legal code  \\\n",
       "0                               0.0                   1.0   \n",
       "1                               0.0                   1.0   \n",
       "2                               0.0                   1.0   \n",
       "3                               0.0                   1.0   \n",
       "4                               0.0                   1.0   \n",
       "\n",
       "   9. General applicability of law  10. Constraint on executive  \\\n",
       "0                              1.0                          1.0   \n",
       "1                              1.0                          1.0   \n",
       "2                              1.0                          1.0   \n",
       "3                              1.0                          1.0   \n",
       "4                              1.0                          1.0   \n",
       "\n",
       "   11. Full-time bureaucrats  12. Impeachment  sum  \n",
       "0                        1.0              0.0  7.0  \n",
       "1                        1.0              0.0  7.0  \n",
       "2                        1.0              0.0  7.0  \n",
       "3                        1.0              0.0  7.0  \n",
       "4                        1.0              0.0  6.0  "
      ]
     },
     "execution_count": 17,
     "metadata": {},
     "output_type": "execute_result"
    }
   ],
   "source": [
    "seshat_axa = pd.read_csv(\"http://seshatdatabank.info/axialdata/data/download.csv\")\n",
    "seshat_axa.head(5)"
   ]
  },
  {
   "cell_type": "code",
   "execution_count": 0,
   "metadata": {
    "colab": {
     "base_uri": "https://localhost:8080/",
     "height": 34
    },
    "colab_type": "code",
    "executionInfo": {
     "elapsed": 4198,
     "status": "ok",
     "timestamp": 1582098517790,
     "user": {
      "displayName": "Vojtěch Kaše",
      "photoUrl": "https://lh3.googleusercontent.com/a-/AAuE7mAxTlnyE78QMWq7qNrhY8cMOVti0SJqAGwQEptYkQ=s64",
      "userId": "01399835024022498543"
     },
     "user_tz": -60
    },
    "id": "xVakrFukavrU",
    "outputId": "ef729fd1-1635-4353-99f6-0c90cdb77ee4"
   },
   "outputs": [
    {
     "name": "stdout",
     "output_type": "stream",
     "text": [
      "Your <class 'pandas.core.frame.DataFrame'> object has been succefully written as \"https://sciencedata.dk/files/SDAM_root/SDAM_data/seshat/seshat_axa.json\"\n"
     ]
    }
   ],
   "source": [
    "### backup for future usage\n",
    "#sddk.write_file(\"SDAM_data/seshat/seshat_axa.json\", seshat_axa, conf)"
   ]
  },
  {
   "cell_type": "code",
   "execution_count": 18,
   "metadata": {
    "colab": {},
    "colab_type": "code",
    "id": "pJdxeHbedr82"
   },
   "outputs": [],
   "source": [
    "### a subselection of most important values\n",
    "values_axial = [\"1. Moralistic punishment\", '2. Moralizing norms', '3. Promotion of prosociality', '4. Omniscient supernatural beings']"
   ]
  },
  {
   "cell_type": "code",
   "execution_count": 19,
   "metadata": {
    "colab": {
     "base_uri": "https://localhost:8080/",
     "height": 68
    },
    "colab_type": "code",
    "executionInfo": {
     "elapsed": 502,
     "status": "ok",
     "timestamp": 1582180859608,
     "user": {
      "displayName": "Vojtěch Kaše",
      "photoUrl": "https://lh3.googleusercontent.com/a-/AAuE7mAxTlnyE78QMWq7qNrhY8cMOVti0SJqAGwQEptYkQ=s64",
      "userId": "01399835024022498543"
     },
     "user_tz": -60
    },
    "id": "9cqdKv1bjLXk",
    "outputId": "4a3fd9f4-b1b4-4b55-a203-a70946814f92"
   },
   "outputs": [
    {
     "data": {
      "text/plain": [
       "array(['Cambodian Basin', 'Crete', 'Galilee', 'Kachi Plain', 'Kansai',\n",
       "       'Konya Plain', 'Latium', 'Middle Yellow River Valley', 'Susiana',\n",
       "       'Upper Egypt'], dtype=object)"
      ]
     },
     "execution_count": 19,
     "metadata": {},
     "output_type": "execute_result"
    }
   ],
   "source": [
    "### what regions do we have here?\n",
    "seshat_axa[\"NGA\"].unique()"
   ]
  },
  {
   "cell_type": "code",
   "execution_count": 20,
   "metadata": {
    "colab": {},
    "colab_type": "code",
    "id": "LIq6k8ysl-XA"
   },
   "outputs": [],
   "source": [
    "NGA_axa_AM = ['Crete', 'Galilee', 'Konya Plain', 'Latium', 'Upper Egypt']"
   ]
  },
  {
   "cell_type": "code",
   "execution_count": 21,
   "metadata": {
    "colab": {},
    "colab_type": "code",
    "id": "Ma0T3-PjYJhc"
   },
   "outputs": [],
   "source": [
    "seshat_axa_AM = seshat_axa[seshat_axa[\"NGA\"].isin(NGA_axa_AM)]\n",
    "#seshat_axa_AM.set_index(\"Date.From\", inplace=True)"
   ]
  },
  {
   "cell_type": "code",
   "execution_count": 0,
   "metadata": {
    "colab": {},
    "colab_type": "code",
    "id": "1-HSC3PyViaS"
   },
   "outputs": [],
   "source": [
    "#set_with_dataframe(sh.add_worksheet(\"seshat_axial_1000BC-1CE\", rows=1, cols=1), seshat_axa_AM[(seshat_axa_AM[\"Date.From\"] > -1100) & (seshat_axa_AM[\"Date.From\"] < 100)])"
   ]
  },
  {
   "cell_type": "code",
   "execution_count": 22,
   "metadata": {
    "colab": {},
    "colab_type": "code",
    "id": "1J6HExMEVlz_"
   },
   "outputs": [
    {
     "data": {
      "text/html": [
       "<div>\n",
       "<style scoped>\n",
       "    .dataframe tbody tr th:only-of-type {\n",
       "        vertical-align: middle;\n",
       "    }\n",
       "\n",
       "    .dataframe tbody tr th {\n",
       "        vertical-align: top;\n",
       "    }\n",
       "\n",
       "    .dataframe thead th {\n",
       "        text-align: right;\n",
       "    }\n",
       "</style>\n",
       "<table border=\"1\" class=\"dataframe\">\n",
       "  <thead>\n",
       "    <tr style=\"text-align: right;\">\n",
       "      <th></th>\n",
       "      <th>Date.From</th>\n",
       "      <th>NGA</th>\n",
       "      <th>1. Moralistic punishment</th>\n",
       "      <th>2. Moralizing norms</th>\n",
       "      <th>3. Promotion of prosociality</th>\n",
       "      <th>4. Omniscient supernatural beings</th>\n",
       "      <th>5. Rulers not gods</th>\n",
       "      <th>6. Equating elites and commoners</th>\n",
       "      <th>7. Equating rulers and commoners</th>\n",
       "      <th>8. Formal legal code</th>\n",
       "      <th>9. General applicability of law</th>\n",
       "      <th>10. Constraint on executive</th>\n",
       "      <th>11. Full-time bureaucrats</th>\n",
       "      <th>12. Impeachment</th>\n",
       "      <th>sum</th>\n",
       "    </tr>\n",
       "  </thead>\n",
       "  <tbody>\n",
       "    <tr>\n",
       "      <th>0</th>\n",
       "      <td>200</td>\n",
       "      <td>Cambodian Basin</td>\n",
       "      <td>0.0</td>\n",
       "      <td>1.0</td>\n",
       "      <td>1.0</td>\n",
       "      <td>NaN</td>\n",
       "      <td>1.0</td>\n",
       "      <td>0.0</td>\n",
       "      <td>0.0</td>\n",
       "      <td>1.0</td>\n",
       "      <td>1.0</td>\n",
       "      <td>1.0</td>\n",
       "      <td>1.0</td>\n",
       "      <td>0.0</td>\n",
       "      <td>7.0</td>\n",
       "    </tr>\n",
       "    <tr>\n",
       "      <th>1</th>\n",
       "      <td>300</td>\n",
       "      <td>Cambodian Basin</td>\n",
       "      <td>0.0</td>\n",
       "      <td>1.0</td>\n",
       "      <td>1.0</td>\n",
       "      <td>NaN</td>\n",
       "      <td>1.0</td>\n",
       "      <td>0.0</td>\n",
       "      <td>0.0</td>\n",
       "      <td>1.0</td>\n",
       "      <td>1.0</td>\n",
       "      <td>1.0</td>\n",
       "      <td>1.0</td>\n",
       "      <td>0.0</td>\n",
       "      <td>7.0</td>\n",
       "    </tr>\n",
       "    <tr>\n",
       "      <th>2</th>\n",
       "      <td>400</td>\n",
       "      <td>Cambodian Basin</td>\n",
       "      <td>0.0</td>\n",
       "      <td>1.0</td>\n",
       "      <td>1.0</td>\n",
       "      <td>NaN</td>\n",
       "      <td>1.0</td>\n",
       "      <td>0.0</td>\n",
       "      <td>0.0</td>\n",
       "      <td>1.0</td>\n",
       "      <td>1.0</td>\n",
       "      <td>1.0</td>\n",
       "      <td>1.0</td>\n",
       "      <td>0.0</td>\n",
       "      <td>7.0</td>\n",
       "    </tr>\n",
       "    <tr>\n",
       "      <th>3</th>\n",
       "      <td>500</td>\n",
       "      <td>Cambodian Basin</td>\n",
       "      <td>0.0</td>\n",
       "      <td>1.0</td>\n",
       "      <td>1.0</td>\n",
       "      <td>NaN</td>\n",
       "      <td>1.0</td>\n",
       "      <td>0.0</td>\n",
       "      <td>0.0</td>\n",
       "      <td>1.0</td>\n",
       "      <td>1.0</td>\n",
       "      <td>1.0</td>\n",
       "      <td>1.0</td>\n",
       "      <td>0.0</td>\n",
       "      <td>7.0</td>\n",
       "    </tr>\n",
       "    <tr>\n",
       "      <th>4</th>\n",
       "      <td>600</td>\n",
       "      <td>Cambodian Basin</td>\n",
       "      <td>0.0</td>\n",
       "      <td>1.0</td>\n",
       "      <td>1.0</td>\n",
       "      <td>NaN</td>\n",
       "      <td>0.0</td>\n",
       "      <td>0.0</td>\n",
       "      <td>0.0</td>\n",
       "      <td>1.0</td>\n",
       "      <td>1.0</td>\n",
       "      <td>1.0</td>\n",
       "      <td>1.0</td>\n",
       "      <td>0.0</td>\n",
       "      <td>6.0</td>\n",
       "    </tr>\n",
       "  </tbody>\n",
       "</table>\n",
       "</div>"
      ],
      "text/plain": [
       "   Date.From              NGA  1. Moralistic punishment  2. Moralizing norms  \\\n",
       "0        200  Cambodian Basin                       0.0                  1.0   \n",
       "1        300  Cambodian Basin                       0.0                  1.0   \n",
       "2        400  Cambodian Basin                       0.0                  1.0   \n",
       "3        500  Cambodian Basin                       0.0                  1.0   \n",
       "4        600  Cambodian Basin                       0.0                  1.0   \n",
       "\n",
       "   3. Promotion of prosociality  4. Omniscient supernatural beings  \\\n",
       "0                           1.0                                NaN   \n",
       "1                           1.0                                NaN   \n",
       "2                           1.0                                NaN   \n",
       "3                           1.0                                NaN   \n",
       "4                           1.0                                NaN   \n",
       "\n",
       "   5. Rulers not gods  6. Equating elites and commoners  \\\n",
       "0                 1.0                               0.0   \n",
       "1                 1.0                               0.0   \n",
       "2                 1.0                               0.0   \n",
       "3                 1.0                               0.0   \n",
       "4                 0.0                               0.0   \n",
       "\n",
       "   7. Equating rulers and commoners  8. Formal legal code  \\\n",
       "0                               0.0                   1.0   \n",
       "1                               0.0                   1.0   \n",
       "2                               0.0                   1.0   \n",
       "3                               0.0                   1.0   \n",
       "4                               0.0                   1.0   \n",
       "\n",
       "   9. General applicability of law  10. Constraint on executive  \\\n",
       "0                              1.0                          1.0   \n",
       "1                              1.0                          1.0   \n",
       "2                              1.0                          1.0   \n",
       "3                              1.0                          1.0   \n",
       "4                              1.0                          1.0   \n",
       "\n",
       "   11. Full-time bureaucrats  12. Impeachment  sum  \n",
       "0                        1.0              0.0  7.0  \n",
       "1                        1.0              0.0  7.0  \n",
       "2                        1.0              0.0  7.0  \n",
       "3                        1.0              0.0  7.0  \n",
       "4                        1.0              0.0  6.0  "
      ]
     },
     "execution_count": 22,
     "metadata": {},
     "output_type": "execute_result"
    }
   ],
   "source": [
    "seshat_axa_AM = seshat_axa[seshat_axa[\"Date.From\"].isin(dates_AM)]\n",
    "seshat_axa_AM.head(5)"
   ]
  },
  {
   "cell_type": "code",
   "execution_count": 25,
   "metadata": {
    "colab": {},
    "colab_type": "code",
    "id": "eED1Dz4yinhx"
   },
   "outputs": [],
   "source": [
    "for value in values_axial:\n",
    "    seshat_axa_AM[value].astype(float)"
   ]
  },
  {
   "cell_type": "code",
   "execution_count": 26,
   "metadata": {
    "colab": {
     "base_uri": "https://localhost:8080/",
     "height": 34
    },
    "colab_type": "code",
    "executionInfo": {
     "elapsed": 837,
     "status": "ok",
     "timestamp": 1582102200429,
     "user": {
      "displayName": "Vojtěch Kaše",
      "photoUrl": "https://lh3.googleusercontent.com/a-/AAuE7mAxTlnyE78QMWq7qNrhY8cMOVti0SJqAGwQEptYkQ=s64",
      "userId": "01399835024022498543"
     },
     "user_tz": -60
    },
    "id": "xCnuFDCbjp7R",
    "outputId": "472291ee-bf32-4613-ccad-26275353d8a9"
   },
   "outputs": [
    {
     "data": {
      "text/plain": [
       "[-1000,\n",
       " -900,\n",
       " -800,\n",
       " -700,\n",
       " -600,\n",
       " -500,\n",
       " -400,\n",
       " -300,\n",
       " -200,\n",
       " -100,\n",
       " 0,\n",
       " 100,\n",
       " 200,\n",
       " 300,\n",
       " 400,\n",
       " 500,\n",
       " 600,\n",
       " 700,\n",
       " 800,\n",
       " 900,\n",
       " 1000]"
      ]
     },
     "execution_count": 26,
     "metadata": {},
     "output_type": "execute_result"
    }
   ],
   "source": [
    "dates_AM"
   ]
  },
  {
   "cell_type": "code",
   "execution_count": 27,
   "metadata": {
    "colab": {
     "base_uri": "https://localhost:8080/",
     "height": 513
    },
    "colab_type": "code",
    "executionInfo": {
     "elapsed": 2662,
     "status": "ok",
     "timestamp": 1582103651420,
     "user": {
      "displayName": "Vojtěch Kaše",
      "photoUrl": "https://lh3.googleusercontent.com/a-/AAuE7mAxTlnyE78QMWq7qNrhY8cMOVti0SJqAGwQEptYkQ=s64",
      "userId": "01399835024022498543"
     },
     "user_tz": -60
    },
    "id": "_w8_EaGXdO6J",
    "outputId": "0cfcc589-3fae-4449-fd00-5b051edd4049"
   },
   "outputs": [
    {
     "data": {
      "image/png": "[encoded data removed]",
      "text/plain": [
       "<Figure size 864x576 with 6 Axes>"
      ]
     },
     "metadata": {
      "needs_background": "light"
     },
     "output_type": "display_data"
    }
   ],
   "source": [
    "fig, axs = plt.subplots(3, 2, figsize=(12, 8))\n",
    "\n",
    "plt.setp(axs, yticks=[0,0.5, 1])\n",
    "\n",
    "for ax, region in zip(axs.ravel(), seshat_axa_AM[\"NGA\"].unique()):\n",
    "  for value, ls in zip(values_axial, ['-','--','-.',':']):\n",
    "    seshat_axa_AM[seshat_axa_AM[\"NGA\"]==region][value].plot(linestyle=ls, linewidth=5, sharey=True, ax=ax)\n",
    "  ax.set_title(region)\n",
    "  ax.set_xlabel(\"\")\n",
    "  ax.set_ylabel(\"1=True, 0=False\", labelpad=-1)\n",
    "\n",
    "axs[2, 1].axis('off')\n",
    "axs[2, 0].set_xlabel(\"date\")\n",
    "\n",
    "handles, labels = ax.get_legend_handles_labels()\n",
    "fig.legend(handles, labels, bbox_to_anchor=(0.75, 0.25))\n",
    "plt.subplots_adjust(hspace=0.3, wspace=0.1)"
   ]
  },
  {
   "cell_type": "code",
   "execution_count": 28,
   "metadata": {
    "colab": {},
    "colab_type": "code",
    "id": "YGHrewAwu5Ck"
   },
   "outputs": [
    {
     "name": "stdout",
     "output_type": "stream",
     "text": [
      "Your <class 'matplotlib.figure.Figure'> object has been succefully written as \"https://sciencedata.dk/files/SDAM_root/SDAM_data/seshat/seshat_axial_mediterranean.png\"\n"
     ]
    }
   ],
   "source": [
    "sddk.write_file(\"SDAM_data/seshat/seshat_axial_mediterranean.png\", fig, conf)"
   ]
  },
  {
   "cell_type": "code",
   "execution_count": 0,
   "metadata": {
    "colab": {},
    "colab_type": "code",
    "id": "M6nSf8-jZ-XR"
   },
   "outputs": [],
   "source": []
  }
 ],
 "metadata": {
  "colab": {
   "collapsed_sections": [
    "5BbDILlsQduM",
    "anM0rWaey-Jw",
    "BipO_dJ9slqg"
   ],
   "name": "SESHAT.ipynb",
   "provenance": [
    {
     "file_id": "1WxNgSp3s6Jqru5W3q1qlle9rAv4e18Xn",
     "timestamp": 1582138241404
    }
   ]
  },
  "kernelspec": {
   "display_name": "Python 3",
   "language": "python",
   "name": "python3"
  },
  "language_info": {
   "codemirror_mode": {
    "name": "ipython",
    "version": 3
   },
   "file_extension": ".py",
   "mimetype": "text/x-python",
   "name": "python",
   "nbconvert_exporter": "python",
   "pygments_lexer": "ipython3",
   "version": "3.6.9"
  }
 },
 "nbformat": 4,
 "nbformat_minor": 1
}
